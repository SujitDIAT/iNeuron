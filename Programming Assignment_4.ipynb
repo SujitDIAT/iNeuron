{
 "cells": [
  {
   "cell_type": "markdown",
   "metadata": {},
   "source": [
    "### 1. Write a Python Program to Find the Factorial of a Number?"
   ]
  },
  {
   "cell_type": "code",
   "execution_count": 4,
   "metadata": {},
   "outputs": [],
   "source": [
    "def factorial(num):\n",
    "    if num>1:\n",
    "        val=1\n",
    "        for i in range(2,num+1):\n",
    "            val=val*i\n",
    "\n",
    "    print(\"factorial of {} is {}\".format(num,val))\n",
    "    return val"
   ]
  },
  {
   "cell_type": "code",
   "execution_count": 7,
   "metadata": {},
   "outputs": [
    {
     "name": "stdout",
     "output_type": "stream",
     "text": [
      "factorial of 5 is 120\n"
     ]
    },
    {
     "data": {
      "text/plain": [
       "120"
      ]
     },
     "execution_count": 7,
     "metadata": {},
     "output_type": "execute_result"
    }
   ],
   "source": [
    "factorial(5)"
   ]
  },
  {
   "cell_type": "markdown",
   "metadata": {},
   "source": [
    "### 2. Write a Python Program to Display the multiplication Table?"
   ]
  },
  {
   "cell_type": "code",
   "execution_count": 8,
   "metadata": {},
   "outputs": [],
   "source": [
    "def table(num):\n",
    "    for i in range(1,11):\n",
    "        print(\"{} * {} ={}\".format(num,i,(num*i)))"
   ]
  },
  {
   "cell_type": "code",
   "execution_count": 9,
   "metadata": {},
   "outputs": [
    {
     "name": "stdout",
     "output_type": "stream",
     "text": [
      "2 * 1 =2\n",
      "2 * 2 =4\n",
      "2 * 3 =6\n",
      "2 * 4 =8\n",
      "2 * 5 =10\n",
      "2 * 6 =12\n",
      "2 * 7 =14\n",
      "2 * 8 =16\n",
      "2 * 9 =18\n",
      "2 * 10 =20\n"
     ]
    }
   ],
   "source": [
    "table(2)"
   ]
  },
  {
   "cell_type": "code",
   "execution_count": 10,
   "metadata": {},
   "outputs": [
    {
     "name": "stdout",
     "output_type": "stream",
     "text": [
      "7 * 1 =7\n",
      "7 * 2 =14\n",
      "7 * 3 =21\n",
      "7 * 4 =28\n",
      "7 * 5 =35\n",
      "7 * 6 =42\n",
      "7 * 7 =49\n",
      "7 * 8 =56\n",
      "7 * 9 =63\n",
      "7 * 10 =70\n"
     ]
    }
   ],
   "source": [
    "table(7)"
   ]
  },
  {
   "cell_type": "markdown",
   "metadata": {},
   "source": [
    "### 3. Write a Python Program to Print the Fibonacci sequence?"
   ]
  },
  {
   "cell_type": "code",
   "execution_count": 11,
   "metadata": {},
   "outputs": [],
   "source": [
    "def fibonacci(n):\n",
    "    f = [0, 1] \n",
    "    for i in range(2, n+1):\n",
    "        f.append(f[i-1] + f[i-2])\n",
    "    return f"
   ]
  },
  {
   "cell_type": "code",
   "execution_count": 12,
   "metadata": {},
   "outputs": [
    {
     "data": {
      "text/plain": [
       "[0, 1, 1, 2, 3, 5]"
      ]
     },
     "execution_count": 12,
     "metadata": {},
     "output_type": "execute_result"
    }
   ],
   "source": [
    "fibonacci(5)"
   ]
  },
  {
   "cell_type": "markdown",
   "metadata": {},
   "source": [
    "### 4. Write a Python Program to Check Armstrong Number?"
   ]
  },
  {
   "cell_type": "code",
   "execution_count": 20,
   "metadata": {},
   "outputs": [],
   "source": [
    "def arm(num):\n",
    "    a=str(num)\n",
    "    l=len(a)\n",
    "    v=0\n",
    "    for i in range(l):\n",
    "        v1=int(a[i])**l\n",
    "        v+=v1\n",
    "    if v==num:\n",
    "        print(\"{} is armstrong number\".format(num))\n",
    "        return(v)\n",
    "    else:\n",
    "        print(\"{} is not an armstrong number\".format(num))\n",
    "    \n",
    "    \n",
    "    \n",
    "    "
   ]
  },
  {
   "cell_type": "code",
   "execution_count": 21,
   "metadata": {},
   "outputs": [
    {
     "name": "stdout",
     "output_type": "stream",
     "text": [
      "1634 is armstrong number\n"
     ]
    },
    {
     "data": {
      "text/plain": [
       "1634"
      ]
     },
     "execution_count": 21,
     "metadata": {},
     "output_type": "execute_result"
    }
   ],
   "source": [
    "arm(1634)"
   ]
  },
  {
   "cell_type": "code",
   "execution_count": 22,
   "metadata": {},
   "outputs": [
    {
     "name": "stdout",
     "output_type": "stream",
     "text": [
      "1253 is not an armstrong number\n"
     ]
    }
   ],
   "source": [
    "arm(1253)"
   ]
  },
  {
   "cell_type": "markdown",
   "metadata": {},
   "source": [
    "### 5. Write a Python Program to Find Armstrong Number in an Interval?"
   ]
  },
  {
   "cell_type": "code",
   "execution_count": 41,
   "metadata": {},
   "outputs": [],
   "source": [
    "def arm_int(lower,upper):\n",
    "    inter=[]\n",
    "    \n",
    "    for i in range(lower,upper+1):\n",
    "        a=str(i)\n",
    "        l=len(a)\n",
    "        v=0\n",
    "        for j in range(l):\n",
    "            v1=int(a[j])**l\n",
    "            v+=v1\n",
    "            #print(v)\n",
    "        if v==i:\n",
    "            inter.append(i)\n",
    "    return(inter)"
   ]
  },
  {
   "cell_type": "code",
   "execution_count": 42,
   "metadata": {},
   "outputs": [
    {
     "data": {
      "text/plain": [
       "[153, 370, 371, 407, 1634]"
      ]
     },
     "execution_count": 42,
     "metadata": {},
     "output_type": "execute_result"
    }
   ],
   "source": [
    "arm_int(100,2000)"
   ]
  },
  {
   "cell_type": "markdown",
   "metadata": {},
   "source": [
    "### 6. Write a Python Program to Find the Sum of Natural Numbers?"
   ]
  },
  {
   "cell_type": "code",
   "execution_count": 43,
   "metadata": {},
   "outputs": [],
   "source": [
    "def sum_natural(n):\n",
    "    s = 0\n",
    "    while(n > 0):\n",
    "        s+= n\n",
    "        n -= 1\n",
    "    print(\"The sum is\",s)"
   ]
  },
  {
   "cell_type": "code",
   "execution_count": 44,
   "metadata": {},
   "outputs": [
    {
     "name": "stdout",
     "output_type": "stream",
     "text": [
      "The sum is 136\n"
     ]
    }
   ],
   "source": [
    "sum_natural(16)"
   ]
  },
  {
   "cell_type": "code",
   "execution_count": null,
   "metadata": {},
   "outputs": [],
   "source": []
  }
 ],
 "metadata": {
  "kernelspec": {
   "display_name": "Python 3",
   "language": "python",
   "name": "python3"
  },
  "language_info": {
   "codemirror_mode": {
    "name": "ipython",
    "version": 3
   },
   "file_extension": ".py",
   "mimetype": "text/x-python",
   "name": "python",
   "nbconvert_exporter": "python",
   "pygments_lexer": "ipython3",
   "version": "3.7.6"
  }
 },
 "nbformat": 4,
 "nbformat_minor": 4
}
