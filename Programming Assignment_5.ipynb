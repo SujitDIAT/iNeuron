{
 "cells": [
  {
   "cell_type": "markdown",
   "metadata": {},
   "source": [
    "### 1. Write a Python Program to Find LCM?"
   ]
  },
  {
   "cell_type": "code",
   "execution_count": 12,
   "metadata": {},
   "outputs": [],
   "source": [
    "def lcm(a,b):\n",
    "    for i in range(1,a*b+1):\n",
    "        if i%a==0 and i%b==0:\n",
    "            print(\"LCM is \",i)\n",
    "            break"
   ]
  },
  {
   "cell_type": "code",
   "execution_count": 13,
   "metadata": {},
   "outputs": [
    {
     "name": "stdout",
     "output_type": "stream",
     "text": [
      "LCM is  42\n"
     ]
    }
   ],
   "source": [
    "lcm(21,14)"
   ]
  },
  {
   "cell_type": "code",
   "execution_count": 14,
   "metadata": {},
   "outputs": [
    {
     "name": "stdout",
     "output_type": "stream",
     "text": [
      "LCM is  100\n"
     ]
    }
   ],
   "source": [
    "lcm(100,25)"
   ]
  },
  {
   "cell_type": "markdown",
   "metadata": {},
   "source": [
    "### 2. Write a Python Program to Find HCF?"
   ]
  },
  {
   "cell_type": "code",
   "execution_count": 15,
   "metadata": {},
   "outputs": [],
   "source": [
    "def hcf(a,b):\n",
    "    d1=max(a,b)\n",
    "    d2=min(a,b)\n",
    "    while d1%d2!=0:\n",
    "        r=d1%d2\n",
    "        d1=d2\n",
    "        d2=r\n",
    "    print(\"HCF is \",d2)"
   ]
  },
  {
   "cell_type": "code",
   "execution_count": 16,
   "metadata": {},
   "outputs": [
    {
     "name": "stdout",
     "output_type": "stream",
     "text": [
      "HCF is  5\n"
     ]
    }
   ],
   "source": [
    "hcf(25,15)"
   ]
  },
  {
   "cell_type": "code",
   "execution_count": 17,
   "metadata": {},
   "outputs": [
    {
     "name": "stdout",
     "output_type": "stream",
     "text": [
      "HCF is  25\n"
     ]
    }
   ],
   "source": [
    "hcf(100,25)"
   ]
  },
  {
   "cell_type": "markdown",
   "metadata": {},
   "source": [
    "### 3. Write a Python Program to Convert Decimal to Binary, Octal and Hexadecimal?"
   ]
  },
  {
   "cell_type": "code",
   "execution_count": 96,
   "metadata": {},
   "outputs": [],
   "source": [
    "\n",
    "def check_bin(v):\n",
    "    l=[]\n",
    "    while v>=1:\n",
    "        v1=v//2\n",
    "        v2=v%2\n",
    "        l.append(v2)\n",
    "        #print(v2)\n",
    "        v=v1\n",
    "    l.reverse()\n",
    "    print(''.join([str(ele) for ele in l]))"
   ]
  },
  {
   "cell_type": "code",
   "execution_count": 97,
   "metadata": {},
   "outputs": [
    {
     "name": "stdout",
     "output_type": "stream",
     "text": [
      "100010\n"
     ]
    }
   ],
   "source": [
    "check_bin(34)"
   ]
  },
  {
   "cell_type": "code",
   "execution_count": 135,
   "metadata": {},
   "outputs": [],
   "source": [
    "\n",
    "def check_oct_hex(v):\n",
    "    print(\"Octal value of {} is {}\".format(v,oct(v)))\n",
    "    print(\"Hexadecimal value of {} is {}\".format(v,hex(v)))"
   ]
  },
  {
   "cell_type": "code",
   "execution_count": 136,
   "metadata": {},
   "outputs": [
    {
     "name": "stdout",
     "output_type": "stream",
     "text": [
      "Octal value of 33 is 0o41\n",
      "Hexadecimal value of 33 is 0x21\n"
     ]
    }
   ],
   "source": [
    "check_oct_hex(33)"
   ]
  },
  {
   "cell_type": "markdown",
   "metadata": {},
   "source": [
    "### 4. Write a Python Program To Find ASCII value of a character?"
   ]
  },
  {
   "cell_type": "code",
   "execution_count": 149,
   "metadata": {},
   "outputs": [],
   "source": [
    "def ascii_val(v):\n",
    "\n",
    "    print(\"ASCII of {} is {}\".format(v,ord(v)))"
   ]
  },
  {
   "cell_type": "code",
   "execution_count": 150,
   "metadata": {},
   "outputs": [
    {
     "name": "stdout",
     "output_type": "stream",
     "text": [
      "ASCII of g is 103\n"
     ]
    }
   ],
   "source": [
    "ascii_val('g')"
   ]
  },
  {
   "cell_type": "markdown",
   "metadata": {},
   "source": [
    "### 5. Write a Python Program to Make a Simple Calculator with 4 basic mathematical operations?"
   ]
  },
  {
   "cell_type": "code",
   "execution_count": 156,
   "metadata": {},
   "outputs": [
    {
     "name": "stdout",
     "output_type": "stream",
     "text": [
      "Input 1 for addition \n",
      "Input 2 for subtraction \n",
      "Input 3 for multiplication \n",
      "Input 4 for division\n",
      "Enter your choice of operation:3\n",
      "Enter first value:5\n",
      "Enter second value:3\n",
      "5 * 3 = 15\n"
     ]
    }
   ],
   "source": [
    "print(\"Input 1 for addition \\nInput 2 for subtraction \\nInput 3 for multiplication \\nInput 4 for division\")\n",
    "choice=int(input(\"Enter your choice of operation:\"))\n",
    "val1=int(input(\"Enter first value:\"))\n",
    "val2=int(input(\"Enter second value:\"))\n",
    "if choice==1:\n",
    "    print(\"{} + {} = {}\".format(val1,val2,val1+val2))\n",
    "elif choice==2:\n",
    "    print(\"{} - {} = {}\".format(val1,val2,val1-val2))\n",
    "elif choice==3:\n",
    "    print(\"{} * {} = {}\".format(val1,val2,val1*val2))\n",
    "if choice==4:\n",
    "    print(\"{} / {} = {}\".format(val1,val2,val1/val2))"
   ]
  },
  {
   "cell_type": "code",
   "execution_count": null,
   "metadata": {},
   "outputs": [],
   "source": []
  }
 ],
 "metadata": {
  "kernelspec": {
   "display_name": "Python 3",
   "language": "python",
   "name": "python3"
  },
  "language_info": {
   "codemirror_mode": {
    "name": "ipython",
    "version": 3
   },
   "file_extension": ".py",
   "mimetype": "text/x-python",
   "name": "python",
   "nbconvert_exporter": "python",
   "pygments_lexer": "ipython3",
   "version": "3.7.6"
  }
 },
 "nbformat": 4,
 "nbformat_minor": 4
}
