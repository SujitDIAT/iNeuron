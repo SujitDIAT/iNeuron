{
 "cells": [
  {
   "cell_type": "markdown",
   "metadata": {},
   "source": [
    "### 1. Write a Python Program to find sum of array?"
   ]
  },
  {
   "cell_type": "code",
   "execution_count": 1,
   "metadata": {},
   "outputs": [],
   "source": [
    "a=[1,2,3,4,5]"
   ]
  },
  {
   "cell_type": "code",
   "execution_count": 8,
   "metadata": {},
   "outputs": [
    {
     "name": "stdout",
     "output_type": "stream",
     "text": [
      "Sum of array [1, 2, 3, 4, 5] is 15\n"
     ]
    }
   ],
   "source": [
    "s=0\n",
    "for i in range(len(a)):\n",
    "    s+=a[i]\n",
    "    #print(i)\n",
    "print(\"Sum of array {} is {}\".format(a,s))\n",
    "    \n",
    "    \n",
    "    "
   ]
  },
  {
   "cell_type": "markdown",
   "metadata": {},
   "source": [
    "### 2. Write a Python Program to find largest element in an array?"
   ]
  },
  {
   "cell_type": "code",
   "execution_count": 20,
   "metadata": {},
   "outputs": [],
   "source": [
    "a=[12,14,9,21,7]"
   ]
  },
  {
   "cell_type": "code",
   "execution_count": 68,
   "metadata": {},
   "outputs": [
    {
     "name": "stdout",
     "output_type": "stream",
     "text": [
      "21\n"
     ]
    }
   ],
   "source": [
    "t=0\n",
    "for i in range(len(a)):\n",
    "    temp=a[i]\n",
    "    for j in range(len(a)):\n",
    "        if temp > a[j]:\n",
    "            #print(t)\n",
    "            #print(\"temp\",temp)\n",
    "            t=temp\n",
    "            break\n",
    "\n",
    "        \n",
    "print(t)\n",
    "        "
   ]
  },
  {
   "cell_type": "code",
   "execution_count": 17,
   "metadata": {},
   "outputs": [
    {
     "name": "stdout",
     "output_type": "stream",
     "text": [
      "21\n"
     ]
    }
   ],
   "source": [
    "for i in range(len(a)-1):\n",
    "    t=0\n",
    "    if a[i]> a[i+1]:\n",
    "        t=a[i]\n",
    "    else:\n",
    "        t=a[i+1]\n",
    "print(t)\n",
    "        "
   ]
  },
  {
   "cell_type": "markdown",
   "metadata": {},
   "source": [
    "### 3. Write a Python Program for array rotation?"
   ]
  },
  {
   "cell_type": "code",
   "execution_count": 71,
   "metadata": {},
   "outputs": [],
   "source": [
    "arr=[1,2,3,4,5]"
   ]
  },
  {
   "cell_type": "code",
   "execution_count": 74,
   "metadata": {},
   "outputs": [
    {
     "name": "stdout",
     "output_type": "stream",
     "text": [
      "[5, 4, 3, 2, 1]\n"
     ]
    }
   ],
   "source": [
    "a=-1\n",
    "b=[]\n",
    "while a>=-len(arr):\n",
    "    b.append(arr[a])\n",
    "    #print(arr[a])\n",
    "    a=a-1\n",
    "print(b)\n",
    "    "
   ]
  },
  {
   "cell_type": "markdown",
   "metadata": {},
   "source": [
    "### 4. Write a Python Program to Split the array and add the first part to the end?"
   ]
  },
  {
   "cell_type": "code",
   "execution_count": 2,
   "metadata": {},
   "outputs": [],
   "source": [
    "arr=[1,2,3,4,5]"
   ]
  },
  {
   "cell_type": "code",
   "execution_count": 27,
   "metadata": {},
   "outputs": [],
   "source": [
    "def split(n,a):\n",
    "    a1=[]\n",
    "    b1=[]\n",
    "    for i in range(n):\n",
    "        a1.append(a[i])\n",
    "    print(\"Splited array is {} as the split value is {}\".format(a1,n))\n",
    "    for j in range(n,len(a)):\n",
    "        b1.append(a[j])\n",
    "    for k in range(len(a1)):\n",
    "        b1.append(a1[k])\n",
    "    print(b1)\n",
    "    "
   ]
  },
  {
   "cell_type": "code",
   "execution_count": 28,
   "metadata": {},
   "outputs": [
    {
     "name": "stdout",
     "output_type": "stream",
     "text": [
      "Splited array is [1, 2] as the split value is 2\n",
      "[3, 4, 5, 1, 2]\n"
     ]
    }
   ],
   "source": [
    "split(2,arr)"
   ]
  },
  {
   "cell_type": "markdown",
   "metadata": {},
   "source": [
    "### 5. Write a Python Program to check if given array is Monotonic?"
   ]
  },
  {
   "cell_type": "code",
   "execution_count": 116,
   "metadata": {},
   "outputs": [],
   "source": [
    "def mono(arr):\n",
    "    c=1\n",
    "    d=1\n",
    "    for i in range(len(arr)-1):\n",
    "\n",
    "        if arr[i]<arr[i+1]:\n",
    "            c+=1\n",
    "        elif arr[i]>arr[i+1]:\n",
    "            d+=1\n",
    "    #print(c,d)        \n",
    "    if c==len(arr) or d==len(arr):\n",
    "        \n",
    "        print(\"Array {} is monotonic\".format(arr))\n",
    "    else:\n",
    "        print(\"Array is not monotonic\")  "
   ]
  },
  {
   "cell_type": "code",
   "execution_count": 117,
   "metadata": {},
   "outputs": [],
   "source": [
    "ar1=[1,5,2,6,8]"
   ]
  },
  {
   "cell_type": "code",
   "execution_count": 119,
   "metadata": {},
   "outputs": [
    {
     "name": "stdout",
     "output_type": "stream",
     "text": [
      "Array is not monotonic\n"
     ]
    }
   ],
   "source": [
    "mono(ar1)"
   ]
  },
  {
   "cell_type": "code",
   "execution_count": 118,
   "metadata": {},
   "outputs": [],
   "source": [
    "ar2=[1,3,5,6]"
   ]
  },
  {
   "cell_type": "code",
   "execution_count": 120,
   "metadata": {},
   "outputs": [
    {
     "name": "stdout",
     "output_type": "stream",
     "text": [
      "Array [1, 3, 5, 6] is monotonic\n"
     ]
    }
   ],
   "source": [
    "mono(ar2)"
   ]
  },
  {
   "cell_type": "code",
   "execution_count": null,
   "metadata": {},
   "outputs": [],
   "source": []
  }
 ],
 "metadata": {
  "kernelspec": {
   "display_name": "Python 3",
   "language": "python",
   "name": "python3"
  },
  "language_info": {
   "codemirror_mode": {
    "name": "ipython",
    "version": 3
   },
   "file_extension": ".py",
   "mimetype": "text/x-python",
   "name": "python",
   "nbconvert_exporter": "python",
   "pygments_lexer": "ipython3",
   "version": "3.7.6"
  }
 },
 "nbformat": 4,
 "nbformat_minor": 4
}
